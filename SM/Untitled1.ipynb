{
 "cells": [
  {
   "cell_type": "code",
   "execution_count": 1,
   "metadata": {
    "scrolled": true
   },
   "outputs": [
    {
     "name": "stdout",
     "output_type": "stream",
     "text": [
      "   Unnamed: 0      Coffee Water          Milk Icecream\n",
      "0           0       에스프레소    No            No       No\n",
      "1           1  Long Black   Yes            No       No\n",
      "2           2  Flat White    No           Yes       No\n",
      "3           3  Cappuccino    No  Yes - Frothy       No\n",
      "4           4    Affogato    No            No      Yes\n"
     ]
    }
   ],
   "source": [
    "import numpy as np\n",
    "import pandas as pd\n",
    "\n",
    "df1=pd.read_csv(\"../Saturday/Python_test/data/coffee2.csv\",encoding='euckr')\n",
    "print(df1)\n",
    "df1.to_csv(\"../Saturday/Python_test/data/coffee3.csv\",encoding='euckr',index=False,header=True)"
   ]
  },
  {
   "cell_type": "code",
   "execution_count": 2,
   "metadata": {},
   "outputs": [],
   "source": [
    "from pandas import DataFrame, Series\n",
    "import pandas as pd\n",
    "\n",
    "f = open(\"data/test.csv\", \"w\")\n",
    "f.write(\"1,2,3,4,5\\n\")\n",
    "\n",
    "for i in range(0,5):\n",
    "    f.write(\"1,2,3,4,5\\n\")\n",
    "f.close()"
   ]
  },
  {
   "cell_type": "code",
   "execution_count": 3,
   "metadata": {},
   "outputs": [
    {
     "name": "stdout",
     "output_type": "stream",
     "text": [
      "   1  2  3  4  5\n",
      "0  1  2  3  4  5\n",
      "1  1  2  3  4  5\n",
      "2  1  2  3  4  5\n",
      "3  1  2  3  4  5\n",
      "4  1  2  3  4  5\n"
     ]
    }
   ],
   "source": [
    "%run data/test.csv\n",
    "ff = pd.read_csv('data/test.csv')\n",
    "print(ff)"
   ]
  },
  {
   "cell_type": "code",
   "execution_count": 4,
   "metadata": {},
   "outputs": [
    {
     "name": "stdout",
     "output_type": "stream",
     "text": [
      "2020-11-14 16:27:24.048121\n"
     ]
    }
   ],
   "source": [
    "from datetime import datetime\n",
    "\n",
    "now = datetime.now()\n",
    "print(now)"
   ]
  },
  {
   "cell_type": "code",
   "execution_count": 5,
   "metadata": {},
   "outputs": [
    {
     "name": "stdout",
     "output_type": "stream",
     "text": [
      "2020\n",
      "11\n",
      "14\n",
      "16\n",
      "27\n",
      "24\n"
     ]
    }
   ],
   "source": [
    "print(now.year)\n",
    "print(now.month)\n",
    "print(now.day)\n",
    "print(now.hour)\n",
    "print(now.minute)\n",
    "print(now.second)"
   ]
  },
  {
   "cell_type": "code",
   "execution_count": 6,
   "metadata": {},
   "outputs": [
    {
     "data": {
      "text/html": [
       "<div>\n",
       "<style scoped>\n",
       "    .dataframe tbody tr th:only-of-type {\n",
       "        vertical-align: middle;\n",
       "    }\n",
       "\n",
       "    .dataframe tbody tr th {\n",
       "        vertical-align: top;\n",
       "    }\n",
       "\n",
       "    .dataframe thead th {\n",
       "        text-align: right;\n",
       "    }\n",
       "</style>\n",
       "<table border=\"1\" class=\"dataframe\">\n",
       "  <thead>\n",
       "    <tr style=\"text-align: right;\">\n",
       "      <th></th>\n",
       "      <th>일자 및 요일</th>\n",
       "      <th>요일구분</th>\n",
       "      <th>비고</th>\n",
       "    </tr>\n",
       "  </thead>\n",
       "  <tbody>\n",
       "    <tr>\n",
       "      <th>0</th>\n",
       "      <td>2019-01-01</td>\n",
       "      <td>화요일</td>\n",
       "      <td>신정</td>\n",
       "    </tr>\n",
       "    <tr>\n",
       "      <th>1</th>\n",
       "      <td>2019-02-04</td>\n",
       "      <td>월요일</td>\n",
       "      <td>설날</td>\n",
       "    </tr>\n",
       "    <tr>\n",
       "      <th>2</th>\n",
       "      <td>2019-02-05</td>\n",
       "      <td>화요일</td>\n",
       "      <td>설날</td>\n",
       "    </tr>\n",
       "    <tr>\n",
       "      <th>3</th>\n",
       "      <td>2019-02-06</td>\n",
       "      <td>수요일</td>\n",
       "      <td>설날</td>\n",
       "    </tr>\n",
       "    <tr>\n",
       "      <th>4</th>\n",
       "      <td>2019-03-01</td>\n",
       "      <td>금요일</td>\n",
       "      <td>삼일절</td>\n",
       "    </tr>\n",
       "    <tr>\n",
       "      <th>5</th>\n",
       "      <td>2019-05-01</td>\n",
       "      <td>수요일</td>\n",
       "      <td>근로자의날</td>\n",
       "    </tr>\n",
       "    <tr>\n",
       "      <th>6</th>\n",
       "      <td>2019-05-06</td>\n",
       "      <td>월요일</td>\n",
       "      <td>어린이날(대체휴일)</td>\n",
       "    </tr>\n",
       "    <tr>\n",
       "      <th>7</th>\n",
       "      <td>2019-06-06</td>\n",
       "      <td>목요일</td>\n",
       "      <td>현충일</td>\n",
       "    </tr>\n",
       "    <tr>\n",
       "      <th>8</th>\n",
       "      <td>2019-08-15</td>\n",
       "      <td>목요일</td>\n",
       "      <td>광복절</td>\n",
       "    </tr>\n",
       "    <tr>\n",
       "      <th>9</th>\n",
       "      <td>2019-09-12</td>\n",
       "      <td>목요일</td>\n",
       "      <td>추석</td>\n",
       "    </tr>\n",
       "    <tr>\n",
       "      <th>10</th>\n",
       "      <td>2019-09-13</td>\n",
       "      <td>금요일</td>\n",
       "      <td>추석</td>\n",
       "    </tr>\n",
       "    <tr>\n",
       "      <th>11</th>\n",
       "      <td>2019-10-03</td>\n",
       "      <td>목요일</td>\n",
       "      <td>개천절</td>\n",
       "    </tr>\n",
       "    <tr>\n",
       "      <th>12</th>\n",
       "      <td>2019-10-09</td>\n",
       "      <td>수요일</td>\n",
       "      <td>한글날</td>\n",
       "    </tr>\n",
       "    <tr>\n",
       "      <th>13</th>\n",
       "      <td>2019-12-25</td>\n",
       "      <td>수요일</td>\n",
       "      <td>성탄절</td>\n",
       "    </tr>\n",
       "    <tr>\n",
       "      <th>14</th>\n",
       "      <td>2019-12-31</td>\n",
       "      <td>화요일</td>\n",
       "      <td>연말휴장일</td>\n",
       "    </tr>\n",
       "  </tbody>\n",
       "</table>\n",
       "</div>"
      ],
      "text/plain": [
       "       일자 및 요일    요일구분          비고\n",
       "0   2019-01-01  화요일             신정\n",
       "1   2019-02-04  월요일             설날\n",
       "2   2019-02-05  화요일             설날\n",
       "3   2019-02-06  수요일             설날\n",
       "4   2019-03-01  금요일            삼일절\n",
       "5   2019-05-01  수요일          근로자의날\n",
       "6   2019-05-06  월요일     어린이날(대체휴일)\n",
       "7   2019-06-06  목요일            현충일\n",
       "8   2019-08-15  목요일            광복절\n",
       "9   2019-09-12  목요일             추석\n",
       "10  2019-09-13  금요일             추석\n",
       "11  2019-10-03  목요일            개천절\n",
       "12  2019-10-09  수요일            한글날\n",
       "13  2019-12-25  수요일            성탄절\n",
       "14  2019-12-31  화요일          연말휴장일"
      ]
     },
     "execution_count": 6,
     "metadata": {},
     "output_type": "execute_result"
    }
   ],
   "source": [
    "import pandas as pd\n",
    "df_hdays = pd.read_excel('https://goo.gl/JGse1n')\n",
    "df_hdays"
   ]
  },
  {
   "cell_type": "code",
   "execution_count": 7,
   "metadata": {},
   "outputs": [
    {
     "data": {
      "text/html": [
       "<div>\n",
       "<style scoped>\n",
       "    .dataframe tbody tr th:only-of-type {\n",
       "        vertical-align: middle;\n",
       "    }\n",
       "\n",
       "    .dataframe tbody tr th {\n",
       "        vertical-align: top;\n",
       "    }\n",
       "\n",
       "    .dataframe thead th {\n",
       "        text-align: right;\n",
       "    }\n",
       "</style>\n",
       "<table border=\"1\" class=\"dataframe\">\n",
       "  <thead>\n",
       "    <tr style=\"text-align: right;\">\n",
       "      <th></th>\n",
       "      <th>일자 및 요일</th>\n",
       "      <th>요일구분</th>\n",
       "      <th>비고</th>\n",
       "    </tr>\n",
       "  </thead>\n",
       "  <tbody>\n",
       "    <tr>\n",
       "      <th>0</th>\n",
       "      <td>2020-01-01</td>\n",
       "      <td>수요일</td>\n",
       "      <td>신정</td>\n",
       "    </tr>\n",
       "    <tr>\n",
       "      <th>1</th>\n",
       "      <td>2020-01-24</td>\n",
       "      <td>금요일</td>\n",
       "      <td>설날</td>\n",
       "    </tr>\n",
       "    <tr>\n",
       "      <th>2</th>\n",
       "      <td>2020-01-27</td>\n",
       "      <td>월요일</td>\n",
       "      <td>설날(대체휴일)</td>\n",
       "    </tr>\n",
       "    <tr>\n",
       "      <th>3</th>\n",
       "      <td>2020-04-15</td>\n",
       "      <td>수요일</td>\n",
       "      <td>21대 국회의원선거</td>\n",
       "    </tr>\n",
       "    <tr>\n",
       "      <th>4</th>\n",
       "      <td>2020-04-30</td>\n",
       "      <td>목요일</td>\n",
       "      <td>석가탄신일</td>\n",
       "    </tr>\n",
       "    <tr>\n",
       "      <th>5</th>\n",
       "      <td>2020-05-01</td>\n",
       "      <td>금요일</td>\n",
       "      <td>근로자의날</td>\n",
       "    </tr>\n",
       "    <tr>\n",
       "      <th>6</th>\n",
       "      <td>2020-05-05</td>\n",
       "      <td>화요일</td>\n",
       "      <td>어린이날</td>\n",
       "    </tr>\n",
       "    <tr>\n",
       "      <th>7</th>\n",
       "      <td>2020-08-17</td>\n",
       "      <td>월요일</td>\n",
       "      <td>임시공휴일</td>\n",
       "    </tr>\n",
       "    <tr>\n",
       "      <th>8</th>\n",
       "      <td>2020-09-30</td>\n",
       "      <td>수요일</td>\n",
       "      <td>추석</td>\n",
       "    </tr>\n",
       "    <tr>\n",
       "      <th>9</th>\n",
       "      <td>2020-10-01</td>\n",
       "      <td>목요일</td>\n",
       "      <td>추석</td>\n",
       "    </tr>\n",
       "    <tr>\n",
       "      <th>10</th>\n",
       "      <td>2020-10-02</td>\n",
       "      <td>금요일</td>\n",
       "      <td>추석</td>\n",
       "    </tr>\n",
       "    <tr>\n",
       "      <th>11</th>\n",
       "      <td>2020-10-09</td>\n",
       "      <td>금요일</td>\n",
       "      <td>한글날</td>\n",
       "    </tr>\n",
       "    <tr>\n",
       "      <th>12</th>\n",
       "      <td>2020-12-25</td>\n",
       "      <td>금요일</td>\n",
       "      <td>성탄절</td>\n",
       "    </tr>\n",
       "    <tr>\n",
       "      <th>13</th>\n",
       "      <td>2020-12-31</td>\n",
       "      <td>목요일</td>\n",
       "      <td>연말휴장일</td>\n",
       "    </tr>\n",
       "  </tbody>\n",
       "</table>\n",
       "</div>"
      ],
      "text/plain": [
       "       일자 및 요일    요일구분          비고\n",
       "0   2020-01-01  수요일             신정\n",
       "1   2020-01-24  금요일             설날\n",
       "2   2020-01-27  월요일       설날(대체휴일)\n",
       "3   2020-04-15  수요일     21대 국회의원선거\n",
       "4   2020-04-30  목요일          석가탄신일\n",
       "5   2020-05-01  금요일          근로자의날\n",
       "6   2020-05-05  화요일           어린이날\n",
       "7   2020-08-17  월요일          임시공휴일\n",
       "8   2020-09-30  수요일             추석\n",
       "9   2020-10-01  목요일             추석\n",
       "10  2020-10-02  금요일             추석\n",
       "11  2020-10-09  금요일            한글날\n",
       "12  2020-12-25  금요일            성탄절\n",
       "13  2020-12-31  목요일          연말휴장일"
      ]
     },
     "execution_count": 7,
     "metadata": {},
     "output_type": "execute_result"
    }
   ],
   "source": [
    "df2_hdays = pd.read_excel(\"data/data.xls\")\n",
    "df2_hdays"
   ]
  },
  {
   "cell_type": "code",
   "execution_count": 8,
   "metadata": {},
   "outputs": [
    {
     "data": {
      "text/plain": [
       "0    2020-01-01\n",
       "1    2020-01-24\n",
       "2    2020-01-27\n",
       "3    2020-04-15\n",
       "4    2020-04-30\n",
       "5    2020-05-01\n",
       "6    2020-05-05\n",
       "7    2020-08-17\n",
       "8    2020-09-30\n",
       "9    2020-10-01\n",
       "10   2020-10-02\n",
       "11   2020-10-09\n",
       "12   2020-12-25\n",
       "13   2020-12-31\n",
       "Name: 날짜, dtype: datetime64[ns]"
      ]
     },
     "execution_count": 8,
     "metadata": {},
     "output_type": "execute_result"
    }
   ],
   "source": [
    "hdays = df2_hdays['일자 및 요일'].str.extract('(\\d{4}-\\d{2}-\\d{2})', expand=False)\n",
    "hdays = pd.to_datetime(hdays)\n",
    "hdays.name = '날짜'\n",
    "hdays"
   ]
  },
  {
   "cell_type": "code",
   "execution_count": 9,
   "metadata": {},
   "outputs": [
    {
     "name": "stdout",
     "output_type": "stream",
     "text": [
      "DatetimeIndex(['2020-01-01', '2020-01-02', '2020-01-03', '2020-01-06',\n",
      "               '2020-01-07', '2020-01-08', '2020-01-09', '2020-01-10',\n",
      "               '2020-01-13', '2020-01-14',\n",
      "               ...\n",
      "               '2020-12-18', '2020-12-21', '2020-12-22', '2020-12-23',\n",
      "               '2020-12-24', '2020-12-25', '2020-12-28', '2020-12-29',\n",
      "               '2020-12-30', '2020-12-31'],\n",
      "              dtype='datetime64[ns]', length=262, freq='B')\n"
     ]
    }
   ],
   "source": [
    "mdays = pd.date_range('2020-01-01','2020-12-31',freq='B')\n",
    "print(mdays)"
   ]
  },
  {
   "cell_type": "code",
   "execution_count": 10,
   "metadata": {},
   "outputs": [
    {
     "data": {
      "text/plain": [
       "DatetimeIndex(['2020-01-02', '2020-01-03', '2020-01-06', '2020-01-07',\n",
       "               '2020-01-08', '2020-01-09', '2020-01-10', '2020-01-13',\n",
       "               '2020-01-14', '2020-01-15',\n",
       "               ...\n",
       "               '2020-12-16', '2020-12-17', '2020-12-18', '2020-12-21',\n",
       "               '2020-12-22', '2020-12-23', '2020-12-24', '2020-12-28',\n",
       "               '2020-12-29', '2020-12-30'],\n",
       "              dtype='datetime64[ns]', length=248, freq=None)"
      ]
     },
     "execution_count": 10,
     "metadata": {},
     "output_type": "execute_result"
    }
   ],
   "source": [
    "mdays.drop(hdays)"
   ]
  },
  {
   "cell_type": "code",
   "execution_count": 14,
   "metadata": {},
   "outputs": [
    {
     "name": "stdout",
     "output_type": "stream",
     "text": [
      "            values\n",
      "2020-05-01       1\n",
      "2020-05-02       2\n",
      "2020-05-03       3\n",
      "2020-05-04       4\n",
      "2020-05-05       5\n",
      "2020-05-06       6\n",
      "2020-05-07       7\n",
      "2020-05-08       8\n",
      "2020-05-09       9\n",
      "2020-05-10      10\n",
      "2020-05-11      11\n",
      "2020-05-12      12\n",
      "2020-05-13      13\n",
      "2020-05-14      14\n",
      "2020-05-15      15\n",
      "2020-05-16      16\n",
      "2020-05-17      17\n",
      "2020-05-18      18\n",
      "2020-05-19      19\n",
      "2020-05-20      20\n",
      "2020-05-21      21\n",
      "2020-05-22      22\n",
      "2020-05-23      23\n",
      "2020-05-24      24\n",
      "2020-05-25      25\n",
      "2020-05-26      26\n",
      "2020-05-27      27\n",
      "2020-05-28      28\n",
      "2020-05-29      29\n",
      "2020-05-30      30\n",
      "2020-05-31      31\n"
     ]
    }
   ],
   "source": [
    "data = {'values': range(1,32)}\n",
    "df_sample = pd.DataFrame(data, index=pd.date_range('2020-05-01','2020-05-31'))\n",
    "df_sample.head()\n",
    "print(df_sample)"
   ]
  },
  {
   "cell_type": "code",
   "execution_count": 15,
   "metadata": {},
   "outputs": [
    {
     "name": "stdout",
     "output_type": "stream",
     "text": [
      "            values\n",
      "2020-05-01       1\n",
      "2020-05-04       4\n",
      "2020-05-05       5\n",
      "2020-05-06       6\n",
      "2020-05-07       7\n",
      "2020-05-08       8\n",
      "2020-05-11      11\n",
      "2020-05-12      12\n",
      "2020-05-13      13\n",
      "2020-05-14      14\n",
      "2020-05-15      15\n",
      "2020-05-18      18\n",
      "2020-05-19      19\n",
      "2020-05-20      20\n",
      "2020-05-21      21\n",
      "2020-05-22      22\n",
      "2020-05-25      25\n",
      "2020-05-26      26\n",
      "2020-05-27      27\n",
      "2020-05-28      28\n",
      "2020-05-29      29\n"
     ]
    }
   ],
   "source": [
    "df_mdays = pd.DataFrame(index=mdays)\n",
    "\n",
    "df = pd.merge(df_sample,df_mdays, right_index = True, left_index = True)\n",
    "print(df)"
   ]
  },
  {
   "cell_type": "code",
   "execution_count": null,
   "metadata": {},
   "outputs": [],
   "source": []
  }
 ],
 "metadata": {
  "kernelspec": {
   "display_name": "Python 3",
   "language": "python",
   "name": "python3"
  },
  "language_info": {
   "codemirror_mode": {
    "name": "ipython",
    "version": 3
   },
   "file_extension": ".py",
   "mimetype": "text/x-python",
   "name": "python",
   "nbconvert_exporter": "python",
   "pygments_lexer": "ipython3",
   "version": "3.8.5"
  }
 },
 "nbformat": 4,
 "nbformat_minor": 4
}
