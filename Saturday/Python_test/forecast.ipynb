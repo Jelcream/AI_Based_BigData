{
 "cells": [
  {
   "cell_type": "code",
   "execution_count": null,
   "metadata": {},
   "outputs": [],
   "source": [
    "import sys\n",
    "import urllib.parse as parse\n",
    "import urllib.request as req\n",
    "import urllib\n",
    "\n",
    "if len(sys.argv)<=1:\n",
    "    print(\"python3 forecase.py 지역번호\")\n",
    "    sys.exit()\n",
    "regionNumber = sys.argv[1]\n",
    "API = \"http://kma.go.kr/weather/forecast/mid-term-rss3.jsp\"\n",
    "#서울 경기 지역 선택\n",
    "values = {\n",
    "    'stdId': str(regionNumber)\n",
    "}\n",
    "params = urllib.parse.urlencode(values)\n",
    "url = API + \"?\" + params\n",
    "print(\"url=\", url)\n",
    "data = urllib.request.urlopen(url).read()\n",
    "#바이너리 데이터를 문자열로 반환\n",
    "text = data.decode(\"utf-8\")\n",
    "print(text)"
   ]
  }
 ],
 "metadata": {
  "kernelspec": {
   "display_name": "Python 3",
   "language": "python",
   "name": "python3"
  },
  "language_info": {
   "codemirror_mode": {
    "name": "ipython",
    "version": 3
   },
   "file_extension": ".py",
   "mimetype": "text/x-python",
   "name": "python",
   "nbconvert_exporter": "python",
   "pygments_lexer": "ipython3",
   "version": "3.8.5"
  }
 },
 "nbformat": 4,
 "nbformat_minor": 4
}
