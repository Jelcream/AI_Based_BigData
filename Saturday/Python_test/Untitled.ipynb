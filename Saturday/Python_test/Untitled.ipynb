{
 "cells": [
  {
   "cell_type": "code",
   "execution_count": 5,
   "metadata": {},
   "outputs": [
    {
     "name": "stdout",
     "output_type": "stream",
     "text": [
      "문자열\n",
      "연습\n",
      "입니다\n",
      "문자열\n",
      "연습\n",
      "입니다\n",
      "\n",
      "\n",
      " 머신러닝기반 '빅데티터 분석' 파이썬 \n",
      "\n",
      "\n",
      "안녕하세요? 제이름은 파이썬이고 20 살 입니다\n",
      "안녕하세요? 제이름은파이썬이고 20 살 입니다\n",
      "\n",
      "\n",
      "안녕하세요? 제이름은\n",
      " \"파이썬\" 입니다. C:\\aaa\\bbb\\\n",
      "\n",
      "\n",
      "==================================================\n",
      "\n",
      "\n",
      "Hi Have great day!Hi Have great day!Hi Have great day!\n",
      "\n",
      "\n",
      "상품의 가격은 10000원 입니다\n"
     ]
    }
   ],
   "source": [
    "%run 1-01-print.py"
   ]
  },
  {
   "cell_type": "code",
   "execution_count": null,
   "metadata": {},
   "outputs": [],
   "source": []
  }
 ],
 "metadata": {
  "kernelspec": {
   "display_name": "Python 3",
   "language": "python",
   "name": "python3"
  },
  "language_info": {
   "codemirror_mode": {
    "name": "ipython",
    "version": 3
   },
   "file_extension": ".py",
   "mimetype": "text/x-python",
   "name": "python",
   "nbconvert_exporter": "python",
   "pygments_lexer": "ipython3",
   "version": "3.8.5"
  }
 },
 "nbformat": 4,
 "nbformat_minor": 4
}
