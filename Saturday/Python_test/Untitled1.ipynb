{
 "cells": [
  {
   "cell_type": "markdown",
   "metadata": {},
   "source": [
    "## 스크레이핑\n",
    "\n",
    "### beautifulsoup\n",
    "스크레이핑이란 웹에서 원하는 정보를 추출하는 작업이며 HTML과 XML 문서에서 정보를 추출한다.\n",
    "\n",
    "스크레이핑을 지원하는 라이브러리 beautifulsoup4를 설치야함\n"
   ]
  },
  {
   "cell_type": "code",
   "execution_count": 4,
   "metadata": {},
   "outputs": [
    {
     "name": "stdout",
     "output_type": "stream",
     "text": [
      "h1= 파이썬으로 웹 문서 읽기\n",
      "p1=  페이지 분석기능 \n",
      "p2= 페이지 정렬 \n"
     ]
    }
   ],
   "source": [
    "from bs4 import BeautifulSoup\n",
    "html =\"\"\"\n",
    "<html><body>\n",
    "<h1>파이썬으로 웹 문서 읽기</h1>\n",
    "<p> 페이지 분석기능 </p>\n",
    "<p> 페이지 정렬 </p>\n",
    "</body></html>\n",
    "\"\"\"\n",
    "soup = BeautifulSoup(html, 'html.parser')\n",
    "h1 = soup.html.body.h1\n",
    "p1 = soup.html.body.p\n",
    "p2 = p1.next_sibling.next_sibling\n",
    "print(\"h1= \"+ h1.string)\n",
    "print(\"p1= \"+ p1.string)\n",
    "print(\"p2=\"+ p2.string)\n",
    "\n"
   ]
  },
  {
   "cell_type": "markdown",
   "metadata": {},
   "source": [
    "html 문서의 내용을 추출하는 것을 알 수 있다.\n",
    "\n",
    "위와 같이 내부 구조를 일일이 파악하고 코딩하는 것은 복잡하다.\n",
    "대신 id와 find()를 사용하여 원하는 항목을 찾을 수 있다."
   ]
  },
  {
   "cell_type": "code",
   "execution_count": 5,
   "metadata": {},
   "outputs": [
    {
     "name": "stdout",
     "output_type": "stream",
     "text": [
      "title= 파이썬으로 웹 문서 읽기\n",
      "body=  페이지 분석기능 \n"
     ]
    }
   ],
   "source": [
    "html =\"\"\"\n",
    "<html><body>\n",
    "<h1 id=\"title\">파이썬으로 웹 문서 읽기</h1>\n",
    "<p id=\"body\"> 페이지 분석기능 </p>\n",
    "<p> 페이지 정렬 </p>\n",
    "</body></html>\n",
    "\"\"\"\n",
    "soup = BeautifulSoup(html, 'html.parser')\n",
    "title = soup.find(id=\"title\")\n",
    "body = soup.find(id=\"body\")\n",
    "\n",
    "print(\"title= \"+ title.string)\n",
    "print(\"body= \"+body.string)\n"
   ]
  },
  {
   "cell_type": "code",
   "execution_count": 7,
   "metadata": {},
   "outputs": [
    {
     "name": "stdout",
     "output_type": "stream",
     "text": [
      "<a href=\"http://www.naver.com\">naver</a>\n",
      "naver --> http://www.naver.com\n",
      "<a href=\"http://www.daum.com\">daum</a>\n",
      "daum --> http://www.daum.com\n"
     ]
    }
   ],
   "source": [
    "html = \"\"\"\n",
    "<html><body>\n",
    "<ul>\n",
    "<li><a href=\"http://www.naver.com\">naver</a></li>\n",
    "<li><a href=\"http://www.daum.com\">daum</a></li>\n",
    "</ul\n",
    "</body>\n",
    "</html>\n",
    "\"\"\"\n",
    "soup = BeautifulSoup(html, 'html.parser')\n",
    "links = soup.find_all(\"a\")\n",
    "for aa in links:\n",
    "    print(aa)\n",
    "    href = aa.attrs[\"href\"]\n",
    "    text = aa.string\n",
    "    print(text, \"-->\", href)"
   ]
  },
  {
   "cell_type": "code",
   "execution_count": null,
   "metadata": {},
   "outputs": [],
   "source": []
  }
 ],
 "metadata": {
  "kernelspec": {
   "display_name": "Python 3",
   "language": "python",
   "name": "python3"
  },
  "language_info": {
   "codemirror_mode": {
    "name": "ipython",
    "version": 3
   },
   "file_extension": ".py",
   "mimetype": "text/x-python",
   "name": "python",
   "nbconvert_exporter": "python",
   "pygments_lexer": "ipython3",
   "version": "3.8.5"
  }
 },
 "nbformat": 4,
 "nbformat_minor": 4
}
