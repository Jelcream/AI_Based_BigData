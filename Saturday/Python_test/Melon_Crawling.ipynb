{
 "cells": [
  {
   "cell_type": "code",
   "execution_count": 3,
   "metadata": {},
   "outputs": [],
   "source": [
    "import re\n",
    "import requests\n",
    "from bs4 import BeautifulSoup\n"
   ]
  },
  {
   "cell_type": "code",
   "execution_count": 16,
   "metadata": {},
   "outputs": [
    {
     "name": "stdout",
     "output_type": "stream",
     "text": [
      "class select 마마무 (Mamamoo) --> javascript:melon.link.goTotalSearch('마마무 (Mamamoo)','','searchFrm','','hot_kwd');\n",
      "class select 마마무 (Mamamoo) --> javascript:melon.link.goTotalSearch('마마무 (Mamamoo)','','searchFrm','','hot_kwd');\n",
      "class select 이소라 --> javascript:melon.link.goTotalSearch('이소라','','searchFrm','','hot_kwd');\n",
      "class select 이소라 --> javascript:melon.link.goTotalSearch('이소라','','searchFrm','','hot_kwd');\n",
      "class select 장우혁 --> javascript:melon.link.goTotalSearch('장우혁','','searchFrm','','hot_kwd');\n",
      "class select 장우혁 --> javascript:melon.link.goTotalSearch('장우혁','','searchFrm','','hot_kwd');\n",
      "class select 규현 (KYUHYUN) --> javascript:melon.link.goTotalSearch('규현 (KYUHYUN)','','searchFrm','','hot_kwd');\n",
      "class select 규현 (KYUHYUN) --> javascript:melon.link.goTotalSearch('규현 (KYUHYUN)','','searchFrm','','hot_kwd');\n",
      "class select 도망가 --> javascript:melon.link.goTotalSearch('도망가','','searchFrm','','hot_kwd');\n",
      "class select 도망가 --> javascript:melon.link.goTotalSearch('도망가','','searchFrm','','hot_kwd');\n",
      "class select TWICE (트와이스) --> javascript:melon.link.goTotalSearch('TWICE (트와이스)','','searchFrm','','hot_kwd');\n",
      "class select TWICE (트와이스) --> javascript:melon.link.goTotalSearch('TWICE (트와이스)','','searchFrm','','hot_kwd');\n",
      "class select MINO (송민호) --> javascript:melon.link.goTotalSearch('MINO (송민호)','','searchFrm','','hot_kwd');\n",
      "class select MINO (송민호) --> javascript:melon.link.goTotalSearch('MINO (송민호)','','searchFrm','','hot_kwd');\n",
      "class select 임창정 --> javascript:melon.link.goTotalSearch('임창정','','searchFrm','','hot_kwd');\n",
      "class select 임창정 --> javascript:melon.link.goTotalSearch('임창정','','searchFrm','','hot_kwd');\n",
      "class select 창모 (CHANGMO) --> javascript:melon.link.goTotalSearch('창모 (CHANGMO)','','searchFrm','','hot_kwd');\n",
      "class select 창모 (CHANGMO) --> javascript:melon.link.goTotalSearch('창모 (CHANGMO)','','searchFrm','','hot_kwd');\n",
      "class select 오 삼광빌라 OST --> javascript:melon.link.goTotalSearch('오 삼광빌라 OST','','searchFrm','','hot_kwd');\n",
      "class select 오 삼광빌라 OST --> javascript:melon.link.goTotalSearch('오 삼광빌라 OST','','searchFrm','','hot_kwd');\n",
      "findall a 마마무 (Mamamoo) --> javascript:melon.link.goTotalSearch('마마무 (Mamamoo)','','searchFrm','','hot_kwd');\n",
      "findall a 마마무 (Mamamoo) --> javascript:melon.link.goTotalSearch('마마무 (Mamamoo)','','searchFrm','','hot_kwd');\n",
      "findall a 이소라 --> javascript:melon.link.goTotalSearch('이소라','','searchFrm','','hot_kwd');\n",
      "findall a 이소라 --> javascript:melon.link.goTotalSearch('이소라','','searchFrm','','hot_kwd');\n",
      "findall a 장우혁 --> javascript:melon.link.goTotalSearch('장우혁','','searchFrm','','hot_kwd');\n",
      "findall a 장우혁 --> javascript:melon.link.goTotalSearch('장우혁','','searchFrm','','hot_kwd');\n",
      "findall a 규현 (KYUHYUN) --> javascript:melon.link.goTotalSearch('규현 (KYUHYUN)','','searchFrm','','hot_kwd');\n",
      "findall a 규현 (KYUHYUN) --> javascript:melon.link.goTotalSearch('규현 (KYUHYUN)','','searchFrm','','hot_kwd');\n",
      "findall a 도망가 --> javascript:melon.link.goTotalSearch('도망가','','searchFrm','','hot_kwd');\n",
      "findall a 도망가 --> javascript:melon.link.goTotalSearch('도망가','','searchFrm','','hot_kwd');\n",
      "findall a TWICE (트와이스) --> javascript:melon.link.goTotalSearch('TWICE (트와이스)','','searchFrm','','hot_kwd');\n",
      "findall a TWICE (트와이스) --> javascript:melon.link.goTotalSearch('TWICE (트와이스)','','searchFrm','','hot_kwd');\n",
      "findall a MINO (송민호) --> javascript:melon.link.goTotalSearch('MINO (송민호)','','searchFrm','','hot_kwd');\n",
      "findall a MINO (송민호) --> javascript:melon.link.goTotalSearch('MINO (송민호)','','searchFrm','','hot_kwd');\n",
      "findall a 임창정 --> javascript:melon.link.goTotalSearch('임창정','','searchFrm','','hot_kwd');\n",
      "findall a 임창정 --> javascript:melon.link.goTotalSearch('임창정','','searchFrm','','hot_kwd');\n",
      "findall a 창모 (CHANGMO) --> javascript:melon.link.goTotalSearch('창모 (CHANGMO)','','searchFrm','','hot_kwd');\n",
      "findall a 창모 (CHANGMO) --> javascript:melon.link.goTotalSearch('창모 (CHANGMO)','','searchFrm','','hot_kwd');\n",
      "findall a 오 삼광빌라 OST --> javascript:melon.link.goTotalSearch('오 삼광빌라 OST','','searchFrm','','hot_kwd');\n",
      "findall a 오 삼광빌라 OST --> javascript:melon.link.goTotalSearch('오 삼광빌라 OST','','searchFrm','','hot_kwd');\n"
     ]
    }
   ],
   "source": [
    "header = {'User-Agent': 'Mozilla/5.0 (Windows NT 6.3; Trident/7.0; rv:11.0) like Gecko'}\n",
    "#print(requests.get(\"https://www.melon.com/search/trend/index.htm\", headers = header).text)\n",
    "# https://www.google.com/search?q=%5B%EC%A0%91%EA%B7%BC+%EC%98%A4%EB%A5%98%5D+%EC%84%9C%EB%B9%84%EC%8A%A4%EC%97%90+%EC%A0%91%EC%86%8D%ED%95%A0+%EC%88%98+%EC%97%86%EC%8A%B5%EB%8B%88%EB%8B%A4.&oq=%5B%EC%A0%91%EA%B7%BC+%EC%98%A4%EB%A5%98%5D+%EC%84%9C%EB%B9%84%EC%8A%A4%EC%97%90+%EC%A0%91%EC%86%8D%ED%95%A0+%EC%88%98+%EC%97%86%EC%8A%B5%EB%8B%88%EB%8B%A4.&aqs=chrome..69i57j33i21.418j0j7&sourceid=chrome&ie=UTF-8\n",
    "soup = BeautifulSoup(requests.get(\"https://www.melon.com/search/trend/index.htm\",headers = header).text)\n",
    "\n",
    "links = soup.select(\".ellipsis\")\n",
    "for aa in links:\n",
    "    href = aa.attrs[\"href\"]\n",
    "    text = aa.string\n",
    "    print(\"class select \"+text + \" --> \"+href)\n",
    "    \n",
    "link = soup.find_all(\"a\")\n",
    "for aa in links:\n",
    "    href = aa.attrs[\"href\"]\n",
    "    text = aa.string\n",
    "    print(\"findall a \"+text + \" --> \"+href)"
   ]
  },
  {
   "cell_type": "code",
   "execution_count": null,
   "metadata": {},
   "outputs": [],
   "source": []
  }
 ],
 "metadata": {
  "kernelspec": {
   "display_name": "Python 3",
   "language": "python",
   "name": "python3"
  },
  "language_info": {
   "codemirror_mode": {
    "name": "ipython",
    "version": 3
   },
   "file_extension": ".py",
   "mimetype": "text/x-python",
   "name": "python",
   "nbconvert_exporter": "python",
   "pygments_lexer": "ipython3",
   "version": "3.8.5"
  }
 },
 "nbformat": 4,
 "nbformat_minor": 4
}
